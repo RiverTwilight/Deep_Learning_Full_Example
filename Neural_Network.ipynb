{
  "cells": [
    {
      "cell_type": "markdown",
      "metadata": {
        "id": "view-in-github",
        "colab_type": "text"
      },
      "source": [
        "<a href=\"https://colab.research.google.com/github/RiverTwilight/Deep_Learning_Full_Example/blob/master/Neural_Network.ipynb\" target=\"_parent\"><img src=\"https://colab.research.google.com/assets/colab-badge.svg\" alt=\"Open In Colab\"/></a>"
      ]
    },
    {
      "cell_type": "markdown",
      "metadata": {
        "id": "4EzQhFI_imOU"
      },
      "source": [
        "# Overview\n",
        "\n",
        "This is a full example of how to detect hand-writting number with deep learning. The example is based on the MNIST dataset, which contains 60,000 training images and 10,000 testing images. Each image is a 28x28 grayscale image of a hand-written digit. The goal is to train a model to correctly classify the digit in the image."
      ]
    },
    {
      "cell_type": "markdown",
      "metadata": {
        "id": "HdTZJ42evAVC"
      },
      "source": [
        "## Dataset\n",
        "\n",
        "This will transform the format of the images from a two-dimensional array (of 28 by 28 pixels) to a one-dimensional array (of 28 * 28 = 784 pixels)."
      ]
    },
    {
      "cell_type": "code",
      "execution_count": 13,
      "metadata": {
        "id": "Na81Nc7bvCN4",
        "colab": {
          "base_uri": "https://localhost:8080/"
        },
        "outputId": "2b1dc53c-9dfa-498c-aa92-26008304ae3c"
      },
      "outputs": [
        {
          "output_type": "stream",
          "name": "stdout",
          "text": [
            "Converting train-images-idx3-ubyte.gz to NumPy Array ...\n",
            "Done\n",
            "Converting train-labels-idx1-ubyte.gz to NumPy Array ...\n",
            "Done\n",
            "Converting t10k-images-idx3-ubyte.gz to NumPy Array ...\n",
            "Done\n",
            "Converting t10k-labels-idx1-ubyte.gz to NumPy Array ...\n",
            "Done\n",
            "Creating pickle file ...\n",
            "Done!\n"
          ]
        }
      ],
      "source": [
        "# coding: utf-8\n",
        "try:\n",
        "    import urllib.request\n",
        "except ImportError:\n",
        "    raise ImportError('You should use Python 3.x')\n",
        "import os.path\n",
        "import gzip\n",
        "import pickle\n",
        "import numpy as np\n",
        "import sys, os\n",
        "sys.path.append('/content/')\n",
        "\n",
        "url_base = 'http://yann.lecun.com/exdb/mnist/'\n",
        "key_file = {\n",
        "    'train_img':'train-images-idx3-ubyte.gz',\n",
        "    'train_label':'train-labels-idx1-ubyte.gz',\n",
        "    'test_img':'t10k-images-idx3-ubyte.gz',\n",
        "    'test_label':'t10k-labels-idx1-ubyte.gz'\n",
        "}\n",
        "\n",
        "# dataset_dir = os.path.dirname(os.path.abspath(\"/content\"))\n",
        "dataset_dir = \"/content\"\n",
        "save_file = dataset_dir + \"/mnist.pkl\"\n",
        "\n",
        "train_num = 60000\n",
        "test_num = 10000\n",
        "img_dim = (1, 28, 28)\n",
        "img_size = 784\n",
        "\n",
        "\n",
        "def _download(file_name):\n",
        "    file_path = dataset_dir + \"/\" + file_name\n",
        "    \n",
        "    if os.path.exists(file_path):\n",
        "        return\n",
        "\n",
        "    print(\"Downloading \" + file_name + \" ... \")\n",
        "    urllib.request.urlretrieve(url_base + file_name, file_path)\n",
        "    print(\"Done\")\n",
        "    \n",
        "def download_mnist():\n",
        "    for v in key_file.values():\n",
        "       _download(v)\n",
        "        \n",
        "def _load_label(file_name):\n",
        "    file_path = dataset_dir + \"/\" + file_name\n",
        "    \n",
        "    print(\"Converting \" + file_name + \" to NumPy Array ...\")\n",
        "    with gzip.open(file_path, 'rb') as f:\n",
        "            labels = np.frombuffer(f.read(), np.uint8, offset=8)\n",
        "    print(\"Done\")\n",
        "    \n",
        "    return labels\n",
        "\n",
        "def _load_img(file_name):\n",
        "    file_path = dataset_dir + \"/\" + file_name\n",
        "    \n",
        "    print(\"Converting \" + file_name + \" to NumPy Array ...\")    \n",
        "    with gzip.open(file_path, 'rb') as f:\n",
        "            data = np.frombuffer(f.read(), np.uint8, offset=16)\n",
        "    data = data.reshape(-1, img_size)\n",
        "    print(\"Done\")\n",
        "    \n",
        "    return data\n",
        "    \n",
        "def _convert_numpy():\n",
        "    dataset = {}\n",
        "    dataset['train_img'] =  _load_img(key_file['train_img'])\n",
        "    dataset['train_label'] = _load_label(key_file['train_label'])    \n",
        "    dataset['test_img'] = _load_img(key_file['test_img'])\n",
        "    dataset['test_label'] = _load_label(key_file['test_label'])\n",
        "    \n",
        "    return dataset\n",
        "\n",
        "def init_mnist():\n",
        "    download_mnist()\n",
        "    dataset = _convert_numpy()\n",
        "    print(\"Creating pickle file ...\")\n",
        "    with open(save_file, 'wb') as f:\n",
        "        pickle.dump(dataset, f, -1)\n",
        "    print(\"Done!\")\n",
        "\n",
        "def _change_one_hot_label(X):\n",
        "    T = np.zeros((X.size, 10))\n",
        "    for idx, row in enumerate(T):\n",
        "        row[X[idx]] = 1\n",
        "        \n",
        "    return T\n",
        "    \n",
        "\n",
        "def load_mnist(normalize=True, flatten=True, one_hot_label=False):\n",
        "    \"\"\"读入MNIST数据集\n",
        "    \n",
        "    Parameters\n",
        "    ----------\n",
        "    normalize : 将图像的像素值正规化为0.0~1.0\n",
        "    one_hot_label : \n",
        "        one_hot_label为True的情况下，标签作为one-hot数组返回\n",
        "        one-hot数组是指[0,0,1,0,0,0,0,0,0,0]这样的数组\n",
        "    flatten : 是否将图像展开为一维数组\n",
        "    \n",
        "    Returns\n",
        "    -------\n",
        "    (训练图像, 训练标签), (测试图像, 测试标签)\n",
        "    \"\"\"\n",
        "    if not os.path.exists(save_file):\n",
        "        init_mnist()\n",
        "        \n",
        "    with open(save_file, 'rb') as f:\n",
        "        dataset = pickle.load(f)\n",
        "    \n",
        "    if normalize:\n",
        "        for key in ('train_img', 'test_img'):\n",
        "            dataset[key] = dataset[key].astype(np.float32)\n",
        "            dataset[key] /= 255.0\n",
        "            \n",
        "    if one_hot_label:\n",
        "        dataset['train_label'] = _change_one_hot_label(dataset['train_label'])\n",
        "        dataset['test_label'] = _change_one_hot_label(dataset['test_label'])\n",
        "    \n",
        "    if not flatten:\n",
        "         for key in ('train_img', 'test_img'):\n",
        "            dataset[key] = dataset[key].reshape(-1, 1, 28, 28)\n",
        "\n",
        "    return (dataset['train_img'], dataset['train_label']), (dataset['test_img'], dataset['test_label']) \n",
        "\n",
        "\n",
        "if __name__ == '__main__':\n",
        "    init_mnist()\n"
      ]
    },
    {
      "cell_type": "markdown",
      "metadata": {
        "id": "RjRQLf1HjZZY"
      },
      "source": [
        "# Functions\n",
        "\n"
      ]
    },
    {
      "cell_type": "markdown",
      "source": [
        "## Basic Funtions"
      ],
      "metadata": {
        "id": "f4IRMbnVNRwY"
      }
    },
    {
      "cell_type": "code",
      "execution_count": 14,
      "metadata": {
        "colab": {
          "base_uri": "https://localhost:8080/",
          "height": 501
        },
        "id": "HnVM4bfSjk0t",
        "outputId": "09400e1a-c159-4bfa-d8fc-e514736df3b4"
      },
      "outputs": [
        {
          "output_type": "stream",
          "name": "stdout",
          "text": [
            "[1 1 0]\n",
            "[11  9]\n",
            "[13  8]\n"
          ]
        },
        {
          "output_type": "display_data",
          "data": {
            "text/plain": [
              "<Figure size 640x480 with 1 Axes>"
            ],
            "image/png": "[encoded data removed]"
          },
          "metadata": {}
        }
      ],
      "source": [
        "# Activation Function\n",
        "import matplotlib.pyplot as plt\n",
        "\n",
        "def step(x):\n",
        "    y = x > 0\n",
        "    return y.astype(int)\n",
        "\n",
        "print(step(np.array([1, 3, 0])))\n",
        "\n",
        "# Old and widely-used activation function.\n",
        "def sigmoid(x):\n",
        "    return 1 / (1 + np.exp(-x))\n",
        "\n",
        "def relu(x):\n",
        "    return np.maximum(0, x)\n",
        "\n",
        "# There are three common places of these three activation function:\n",
        "#\n",
        "#  1. The output is between 0 to 1\n",
        "#  2. Both is liner function\n",
        "#  3. The more important the input is, the bigger the output is.\n",
        "\n",
        "x = np.array([1, 2])\n",
        "w = np.array([[3, 4], [5, 2]]) # The row number should equal to x's length.\n",
        "\n",
        "# Diffrent operation order will output diffrenet result\n",
        "print(np.dot(w, x)) # [11, 9]\n",
        "print(np.dot(x, w)) # [13, 8] [1 x 3 + 2 x 5, 1 x 4 + 2 x 4]\n",
        "\n",
        "# Central Difference Derivation\n",
        "# We use 2 h to reduce the deviation.\n",
        "def numerical_diff(f, x):\n",
        "    h = 1e-4\n",
        "    return (f(x + h) - f(x - h)) / (2 * h)\n",
        "\n",
        "def func_1(x):\n",
        "    return 0.01 * x ** 2 + 0.1 * x\n",
        "\n",
        "x = np.arange(0.0, 20.0, 0.1)\n",
        "y = numerical_diff(func_1, x) # This is a valid operation (boardcast)\n",
        "plt.xlabel(\"x\")\n",
        "plt.ylabel(\"y\")\n",
        "plt.plot(x, y)\n",
        "# plt.show()\n",
        "\n",
        "def softmax(a):\n",
        "    c = np.max(a)\n",
        "    exp_a = np.exp(a - c) # e ^ (a - c)\n",
        "    sum_exp_a = np.sum(exp_a)\n",
        "    y = exp_a / sum_exp_a\n",
        "\n",
        "    return y\n",
        "\n",
        "def softmax_batch(x):\n",
        "    if x.ndim == 2:\n",
        "        x = x.T\n",
        "        x = x - np.max(x, axis=0)\n",
        "        y = np.exp(x) / np.sum(np.exp(x), axis=0)\n",
        "        return y.T \n",
        "\n",
        "    x = x - np.max(x) # 溢出对策\n",
        "    return np.exp(x) / np.sum(np.exp(x))"
      ]
    },
    {
      "cell_type": "markdown",
      "metadata": {
        "id": "428IuPKjnPPa"
      },
      "source": [
        "## Cross Entropy Error\n",
        "\n",
        "We want the loss function result as small as possible.\n",
        "\n",
        "We introduce loss function to find a params that generate small loss function result."
      ]
    },
    {
      "cell_type": "code",
      "execution_count": 15,
      "metadata": {
        "id": "wEBMqCA-nRWg"
      },
      "outputs": [],
      "source": [
        "def cross_entropy_error(y, t):\n",
        "    delta = 1e-7\n",
        "    return -np.sum(t * np.log(y + delta))\n",
        "    \n",
        "def cross_entropy_error_batch(y, t):\n",
        "    if y.ndim == 1:\n",
        "        t = t.reshape(1, t.size)\n",
        "        y = y.reshape(1, y.size)\n",
        "    \n",
        "    # Only output the index of the right anwser.\n",
        "    if t.size == y.size:\n",
        "        t = t.argmax(axis=1) # 1 is the max\n",
        "    \n",
        "    batch_size = y.shape[0]\n",
        "    return -np.sum(np.log(y[np.arange(batch_size), t] + 1e-7)) / batch_size\n"
      ]
    },
    {
      "cell_type": "markdown",
      "metadata": {
        "id": "8Lnw14Dwl-hc"
      },
      "source": [
        "# Graident\n",
        "\n",
        "In vector calculus, the gradient of a scalar-valued differentiable function \n",
        "$ f $ of several variables is the vector field (or vector-valued function) f whose value at a point is the \"direction and rate of fastest increase\".\n",
        "\n",
        "The most basic way to find the gradient is to use the numerical differentiation method.\n",
        "\n",
        "$$  grad(x, y) = \\frac{f(x + h) - f(x - h)}{2h} $$\n",
        "\n",
        "```python\n",
        "import numpy as np\n",
        "\n",
        "def numerical_gradient(f, x):\n",
        "    h = 1e-4 # 0.0001\n",
        "    grad = np.zeros_like(x)\n",
        "    \n",
        "    it = np.nditer(x, flags=['multi_index'], op_flags=['readwrite'])\n",
        "    while not it.finished:\n",
        "        idx = it.multi_index\n",
        "        tmp_val = x[idx]\n",
        "        x[idx] = float(tmp_val) + h\n",
        "        fxh1 = f(x) # f(x+h)\n",
        "        \n",
        "        x[idx] = tmp_val - h \n",
        "        fxh2 = f(x) # f(x-h)\n",
        "        grad[idx] = (fxh1 - fxh2) / (2*h)\n",
        "        \n",
        "        x[idx] = tmp_val # 还原值\n",
        "        it.iternext()   \n",
        "\n",
        "def test_function(x):\n",
        "    return x[0] ** 2 + x[1] ** 2\n",
        "\n",
        "def gradient_desent(f, init_x, lr=0.01, step_num=100):\n",
        "    \"\"\"\n",
        "    lr is Learning Rate. This should not be too large or too small.\n",
        "    \"\"\"\n",
        "\n",
        "    x = init_x\n",
        "\n",
        "    for i in range(step_num):\n",
        "        grad = numerical_gradient(f, x)\n",
        "        x -= lr * grad\n",
        "\n",
        "    return x\n",
        "```\n",
        "\n",
        "There are four mainstream gradient desend algorithum."
      ]
    },
    {
      "cell_type": "markdown",
      "source": [
        "## SGD (Stochastic Gradient Descent)\n",
        "\n",
        "We can get new weights by:\n",
        "\n",
        "$$ W \\leftarrow W - \\eta \\frac{\\delta L}{\\delta W} $$\n",
        "\n",
        "$ \\eta $ is the learning rate, and $ \\frac{\\delta L}{\\delta W} $ is the gradinent of $ W $\n",
        "\n",
        "The SGD sucks when the function is not anisotropic.\n"
      ],
      "metadata": {
        "id": "a6gWqIjrNrdg"
      }
    },
    {
      "cell_type": "code",
      "source": [
        "class SGD:\n",
        "    def __init__(self, lr=0.01):\n",
        "        self.lr = lr\n",
        "    \n",
        "    def update(self, params, grads):\n",
        "        for key, val in params.items():\n",
        "            params[key] -= self.lr * grads[key]"
      ],
      "metadata": {
        "id": "fXadNma1P0XQ"
      },
      "execution_count": 16,
      "outputs": []
    },
    {
      "cell_type": "markdown",
      "source": [
        "## Momentum\n",
        "\n",
        "This method can make the gradient reach the extreme position faster"
      ],
      "metadata": {
        "id": "PmwLtamENzTh"
      }
    },
    {
      "cell_type": "code",
      "source": [
        "class Momentum:\n",
        "    def __init__(self, lr=0.01, momentum=0.9):\n",
        "        self.lr = lr\n",
        "        self.momentum = momentum\n",
        "        self.v = None\n",
        "    \n",
        "    def update(self, params, grads):\n",
        "        if self.v is None:\n",
        "            self.v = {}\n",
        "            for key, val in params.items():\n",
        "                self.v[key] = np.zeros_like(val)\n",
        "\n",
        "        for key in params.keys():\n",
        "            self.v[key] = self.momentum * self.v[key] - self.lr * grads[key]\n",
        "            params[key] += self.v[key]\n"
      ],
      "metadata": {
        "id": "cSR-RnRXN2j_"
      },
      "execution_count": 17,
      "outputs": []
    },
    {
      "cell_type": "markdown",
      "source": [
        "## AdaGrad\n",
        "\n",
        "The AdaGrad (Adaptive Gradient) introduces the **learning rate decay** method. Compared with the momentum method, this method will gradually reduce the learning rate."
      ],
      "metadata": {
        "id": "EvmXJIvTQFwR"
      }
    },
    {
      "cell_type": "code",
      "source": [],
      "metadata": {
        "id": "zL6TPk60QiFL"
      },
      "execution_count": 17,
      "outputs": []
    },
    {
      "cell_type": "markdown",
      "source": [
        "## Adam"
      ],
      "metadata": {
        "id": "5sOU-gn9YqEA"
      }
    },
    {
      "cell_type": "code",
      "source": [],
      "metadata": {
        "id": "81T5whX0YrnH"
      },
      "execution_count": 17,
      "outputs": []
    },
    {
      "cell_type": "markdown",
      "metadata": {
        "id": "vnZJkBsNk8NQ"
      },
      "source": [
        "# Layers"
      ]
    },
    {
      "cell_type": "markdown",
      "metadata": {
        "id": "2O3UbAWBlY5f"
      },
      "source": [
        "## Relu\n",
        "\n",
        "Return x if x is larger than 0, otherwise return 0.\n",
        "\n",
        "$$\n",
        "Relu(x) = \\left\\{\n",
        "    \\begin{array}\\\\\n",
        "        1 & \\mbox{if } \\ x > 0 \\\\\n",
        "        0 & \\mbox{otherwise }\n",
        "    \\end{array}\n",
        "\\right.\n",
        "$$"
      ]
    },
    {
      "cell_type": "code",
      "execution_count": 18,
      "metadata": {
        "id": "EWaHBc_BlFmK"
      },
      "outputs": [],
      "source": [
        "class Relu:\n",
        "    def __init__(self) -> None:\n",
        "        self.mask = None\n",
        "    \n",
        "    def forward(self, x):\n",
        "        \"\"\"\n",
        "        x should be a numpy array here\n",
        "        \"\"\"\n",
        "        self.mask = (x <= 0) # An array represting wheather each element is larger than 0. [True, False, False]\n",
        "        out = x.copy()\n",
        "        out[self.mask] = 0\n",
        "\n",
        "        return out\n",
        "\n",
        "    def backward(self, dout):\n",
        "        \"\"\"\n",
        "        Set all the `Ture` in mask to 0\n",
        "        \"\"\"\n",
        "        dout[self.mask] = 0\n",
        "        dx = dout\n",
        "\n",
        "        return dx"
      ]
    },
    {
      "cell_type": "markdown",
      "metadata": {
        "id": "Sas1Bu3nlPqI"
      },
      "source": [
        "## Affine\n",
        "\n",
        "$$\n",
        "Affine(x) = X • W + b\n",
        "$$"
      ]
    },
    {
      "cell_type": "code",
      "execution_count": 19,
      "metadata": {
        "id": "3_yAy2vhlR8T"
      },
      "outputs": [],
      "source": [
        "class Affine:\n",
        "    def __init__(self, W, b) -> None:\n",
        "        self.W = W\n",
        "        self.b = b\n",
        "        self.x = None\n",
        "        self.dW = None\n",
        "        self.db = None\n",
        "    \n",
        "    def forward(self, x):\n",
        "        self.x = x\n",
        "        x = x.reshape(x.shape[0], -1)\n",
        "        dot = np.dot(self.x, self.W)\n",
        "        out = dot + self.b # Boardcasting...\n",
        "\n",
        "        return out\n",
        "\n",
        "    def backward(self, dout):\n",
        "        dx = np.dot(dout, self.W.T)\n",
        "        self.dW = np.dot(self.x.T, dout)\n",
        "        self.db = np.sum(dout, axis=0)\n",
        "\n",
        "        return dx"
      ]
    },
    {
      "cell_type": "markdown",
      "metadata": {
        "id": "rdcMMpfamwXf"
      },
      "source": [
        "## SoftmaxWithLoss\n",
        "\n",
        "The Softmax Loss is a widely used loss function in the field of deep learning. It is also referred to as the Cross-entropy loss with softmax.\n",
        "\n",
        "Let us consider the training data, denoted as 't', which is assumed to have undergone one-shot training, represented as follows:\n",
        "\n",
        " $$ t = (0, 0, 0, ..., 1, 0) $$\n",
        "\n",
        "Here, $ t_{k} $ corresponds to the correct answer. The predicted result, denoted by $ z $, can be expressed as:\n",
        "\n",
        " $$ z = (z_{1}, z_{2}, ..., z_{C}) $$\n",
        "\n",
        "The corresponding loss function, 'lz', can be formulated as:\n",
        "\n",
        " $$ l_{z} = \\sum_{i=1}^{C} t_{i} log(z) = -log(z_{k})$$\n",
        "\n",
        "In comparison to a linear function, the logarithmic function better represents our desired objective."
      ]
    },
    {
      "cell_type": "code",
      "execution_count": 20,
      "metadata": {
        "id": "3tKcHjDbmyIJ"
      },
      "outputs": [],
      "source": [
        "class SoftmaxWithLoss:\n",
        "    def __init__(self, print_result=False) -> None:\n",
        "        self.loss = None\n",
        "        self.print_result = print_result\n",
        "        self.y = None\n",
        "        self.x = None\n",
        "\n",
        "    def forward(self, x, t):\n",
        "        self.t = t \n",
        "        # Teaching Data. Marking the right answer.\n",
        "        # Set right anwser to 1 and wrongs to 0. For exmaple, [0, 0, 0, 1, 0, 0]\n",
        "\n",
        "        self.y = softmax_batch(x)\n",
        "        self.loss = cross_entropy_error_batch(self.y, self.t)\n",
        "\n",
        "        return self.loss\n",
        "\n",
        "    def backward(self, dout=1):\n",
        "        batch_size = self.t.shape[0]\n",
        "        if self.t.size == self.y.size: # 监督数据是one-hot-vector的情况\n",
        "            dx = (self.y - self.t) / batch_size\n",
        "        else:\n",
        "            dx = self.y.copy()\n",
        "            dx[np.arange(batch_size), self.t] -= 1\n",
        "            dx = dx / batch_size\n",
        "        \n",
        "        return dx"
      ]
    },
    {
      "cell_type": "markdown",
      "source": [
        "## Batch Normalization\n"
      ],
      "metadata": {
        "id": "JuVQCcg1HWvr"
      }
    },
    {
      "cell_type": "code",
      "source": [],
      "metadata": {
        "id": "X9qF09xwHaU8"
      },
      "execution_count": 20,
      "outputs": []
    },
    {
      "cell_type": "markdown",
      "metadata": {
        "id": "gBySGUTJjy39"
      },
      "source": [
        "# Network\n"
      ]
    },
    {
      "cell_type": "markdown",
      "metadata": {
        "id": "lVl0mOKYmKFr"
      },
      "source": [
        "## Two Layer Net\n",
        "\n",
        "This network reach a accuarcy of 97%"
      ]
    },
    {
      "cell_type": "code",
      "execution_count": 21,
      "metadata": {
        "id": "HUem1Q5Dj09y"
      },
      "outputs": [],
      "source": [
        "import numpy as np\n",
        "from collections import OrderedDict\n",
        "\n",
        "class TwoLayerNet:\n",
        "    def __init__(self, input_size, hidden_size, output_size, weight_init_std=0.01, initParams=None) -> None:\n",
        "        \n",
        "        self.params = {}\n",
        "\n",
        "        if initParams:\n",
        "            self.params = initParams\n",
        "        else:\n",
        "            # Select {hidden_size} numbers from 0 - 0.01 * input_size\n",
        "            self.params[\"W1\"] = weight_init_std * np.random.randn(input_size, hidden_size)\n",
        "            self.params[\"b1\"] = np.zeros(hidden_size)\n",
        "            self.params[\"W2\"] = weight_init_std * np.random.randn(hidden_size, output_size)\n",
        "            self.params[\"b2\"] = np.zeros(output_size)\n",
        "\n",
        "        self.layers = OrderedDict() # Remember the order of the addition\n",
        "        self.layers['Affine1'] = Affine(self.params[\"W1\"], self.params[\"b1\"])\n",
        "        self.layers['Relu1'] = Relu()\n",
        "        self.layers['Affine2'] = Affine(self.params[\"W2\"], self.params[\"b2\"])\n",
        "\n",
        "        self.lastLayer = SoftmaxWithLoss(print_result = (not initParams == None))\n",
        "\n",
        "    def predict(self, x):\n",
        "        for layer in self.layers.values():\n",
        "            x = layer.forward(x)\n",
        "        \n",
        "        return x\n",
        "\n",
        "    def loss(self, x, t):\n",
        "        y = self.predict(x)\n",
        "\n",
        "        return self.lastLayer.forward(y, t)\n",
        "\n",
        "    def accuracy(self, x, t):\n",
        "        y = self.predict(x)\n",
        "        y = np.argmax(y, axis=1)\n",
        "        \n",
        "        # Get the index of the maximum value. If one-shot is enabled the max value is 1\n",
        "        # For example, [[1, 0, 0], [0,0,1]] will be converted to [0, 2]\n",
        "        if t.ndim != 1: t = np.argmax(t, axis=1)\n",
        "\n",
        "        if x.shape[0] <= 5:\n",
        "            print(\"Expected Anwser: \" + str(t))\n",
        "            print(\"Exact Anwser: \" + str(y))\n",
        "\n",
        "        accuracy = np.sum(y == t) / float(x.shape[0])\n",
        "\n",
        "        return accuracy\n",
        "    \n",
        "    def numerical_gradient(self, x, t):\n",
        "        loss_W = lambda W: self.loss(x, t)\n",
        "        \n",
        "        grads = {}\n",
        "        grads['W1'] = numerical_gradient(loss_W, self.params['W1'])\n",
        "        grads['b1'] = numerical_gradient(loss_W, self.params['b1'])\n",
        "        grads['W2'] = numerical_gradient(loss_W, self.params['W2'])\n",
        "        grads['b2'] = numerical_gradient(loss_W, self.params['b2'])\n",
        "        \n",
        "        return grads\n",
        "    \n",
        "    def gradient(self, x, t):\n",
        "        self.loss(x, t)\n",
        "\n",
        "        dout = 1\n",
        "        dout = self.lastLayer.backward(dout)\n",
        "\n",
        "        layers = list(self.layers.values())\n",
        "        layers.reverse()\n",
        "        \n",
        "        for layer in layers:\n",
        "            dout = layer.backward(dout)\n",
        "\n",
        "        grads = {}\n",
        "        grads[\"W1\"] = self.layers[\"Affine1\"].dW\n",
        "        grads[\"b1\"] = self.layers[\"Affine1\"].db\n",
        "        grads[\"W2\"] = self.layers[\"Affine2\"].dW\n",
        "        grads[\"b2\"] = self.layers[\"Affine2\"].db\n",
        "\n",
        "        return grads"
      ]
    },
    {
      "cell_type": "markdown",
      "metadata": {
        "id": "V4ikKQHFmTLT"
      },
      "source": [
        "## CNN\n",
        "\n",
        "A enhanced version. One of the most significant diffrences is that CNN will not lose the data's shape. In the previos network we need to convert the two-dimension array to One-dimension. CNN allows us to directly input the original shaped data.\n",
        "\n",
        "This overperfom other network especially when processing the colored image."
      ]
    },
    {
      "cell_type": "code",
      "execution_count": 22,
      "metadata": {
        "id": "nDwqZ38KmtMd"
      },
      "outputs": [],
      "source": [
        "# TODO"
      ]
    },
    {
      "cell_type": "markdown",
      "metadata": {
        "id": "UGTcZ_vTsQnY"
      },
      "source": [
        "# Training\n",
        "\n",
        "## Two Layer Net\n",
        "\n",
        "Print accuacy after each epoch seeking. Randomly select 100 images to update the gradient."
      ]
    },
    {
      "cell_type": "code",
      "execution_count": 23,
      "metadata": {
        "id": "pHkHWIfEssBH",
        "colab": {
          "base_uri": "https://localhost:8080/",
          "height": 1000
        },
        "outputId": "1be82d38-9448-4b3e-935f-08b4a533ec92"
      },
      "outputs": [
        {
          "output_type": "stream",
          "name": "stdout",
          "text": [
            "[2930 7328 1796 2355 7121]\n",
            "Expected Anwser: [5 2 0 1 8]\n",
            "Exact Anwser: [5 2 0 1 8]\n",
            "Expected Anwser: [5 2 0 1 8]\n",
            "Exact Anwser: [5 2 0 1 8]\n",
            "Expected Anwser: [5 2 0 1 8]\n",
            "Exact Anwser: [5 2 0 1 8]\n",
            "Expected Anwser: [5 2 0 1 8]\n",
            "Exact Anwser: [5 2 0 1 8]\n",
            "Expected Anwser: [5 2 0 1 8]\n",
            "Exact Anwser: [5 2 0 1 8]\n",
            "Expected Anwser: [5 2 0 1 8]\n",
            "Exact Anwser: [5 2 0 1 8]\n",
            "Expected Anwser: [5 2 0 1 8]\n",
            "Exact Anwser: [5 2 0 1 8]\n",
            "Expected Anwser: [5 2 0 1 8]\n",
            "Exact Anwser: [5 2 0 1 8]\n",
            "Expected Anwser: [5 2 0 1 8]\n",
            "Exact Anwser: [5 2 0 1 8]\n",
            "Expected Anwser: [5 2 0 1 8]\n",
            "Exact Anwser: [5 2 0 1 8]\n",
            "Expected Anwser: [5 2 0 1 8]\n",
            "Exact Anwser: [5 2 0 1 8]\n",
            "Expected Anwser: [5 2 0 1 8]\n",
            "Exact Anwser: [5 2 0 1 8]\n",
            "Expected Anwser: [5 2 0 1 8]\n",
            "Exact Anwser: [5 2 0 1 8]\n",
            "Expected Anwser: [5 2 0 1 8]\n",
            "Exact Anwser: [5 2 0 1 8]\n",
            "Expected Anwser: [5 2 0 1 8]\n",
            "Exact Anwser: [5 2 0 1 8]\n",
            "Expected Anwser: [5 2 0 1 8]\n",
            "Exact Anwser: [5 2 0 1 8]\n",
            "Expected Anwser: [5 2 0 1 8]\n",
            "Exact Anwser: [5 2 0 1 8]\n"
          ]
        },
        {
          "output_type": "display_data",
          "data": {
            "text/plain": [
              "<Figure size 640x480 with 1 Axes>"
            ],
            "image/png": "[encoded data removed]"
          },
          "metadata": {}
        }
      ],
      "source": [
        "#@title Train Network\n",
        "flatten = False #@param {type:\"boolean\"}\n",
        "learning_rate = 0.08 #@param {type:\"number\"}\n",
        "batch_size =100 #@param {type:\"number\"}\n",
        "iters_num = 10000 #@param {type:\"number\"}\n",
        "\n",
        "import pickle\n",
        "import matplotlib.pyplot as plt\n",
        "\n",
        "(x_train, t_train), (x_test, t_test) = load_mnist(normalize=True, one_hot_label=True)\n",
        "\n",
        "def train(x_train, t_train, x_test, t_test, initParams=None):\n",
        "    # Because the output is between 0-9 so we set output_size to 10\n",
        "    network = TwoLayerNet(input_size=784, hidden_size=50, output_size=10, initParams=initParams)\n",
        "    optimizer = SGD(learning_rate)\n",
        "\n",
        "    train_size = x_train.shape[0] # 60000\n",
        "    train_loss_list = []\n",
        "    train_acc_list = []\n",
        "    test_acc_list = []\n",
        "\n",
        "    iter_per_epoch = max(train_size / batch_size, 1)\n",
        "\n",
        "    for i in range(iters_num):\n",
        "        batch_mask = np.random.choice(train_size, batch_size) # Select a batch_size between 0 - train_size\n",
        "        \n",
        "        # Randomly select a part of data\n",
        "        x_batch = x_train[batch_mask]\n",
        "        t_batch = t_train[batch_mask]\n",
        "\n",
        "\n",
        "        if not initParams:\n",
        "            grads = network.gradient(x_batch, t_batch)\n",
        "            optimizer.update(network.params, grads)\n",
        "\n",
        "        loss = network.loss(x_batch, t_batch)\n",
        "        train_loss_list.append(loss)\n",
        "\n",
        "\n",
        "        # Only calcuate accuracy every epoch. All data passed in.\n",
        "        if i % iter_per_epoch == 0:\n",
        "            train_acc = network.accuracy(x_train, t_train)\n",
        "            test_acc = network.accuracy(x_test, t_test)\n",
        "            train_acc_list.append(train_acc)\n",
        "            test_acc_list.append(test_acc)\n",
        "            # print(train_acc, test_acc)\n",
        "\n",
        "    epochs = range(len(train_acc_list))\n",
        "    plt.plot(epochs, train_acc_list, label='Train Accuracy')\n",
        "    plt.plot(epochs, test_acc_list, label='Test Accuracy')\n",
        "    plt.title('Accuracy Change Per Epoch')\n",
        "    plt.xlabel('Epoch')\n",
        "    plt.ylabel('Accuracy')\n",
        "    plt.legend()\n",
        "    plt.show()\n",
        "    \n",
        "    return network.params\n",
        "\n",
        "\n",
        "dataset_dir = \"/content\"\n",
        "save_file = dataset_dir + \"/params.pkl\"\n",
        "\n",
        "if not os.path.exists(save_file):\n",
        "    params = train(x_train, t_train, x_test, t_test)\n",
        "    with open(save_file, 'wb') as f:\n",
        "        pickle.dump(params, f, -1)\n",
        "else:\n",
        "    with open(save_file, 'rb') as f:\n",
        "        dataset = pickle.load(f)\n",
        "\n",
        "    \n",
        "    batch_mask = np.random.choice(10000, 5) \n",
        "    print(batch_mask)\n",
        "    test_data = np.array(x_test[batch_mask])\n",
        "    expected_answer = np.array(t_test[batch_mask])\n",
        "\n",
        "    train(x_train, t_train, test_data, expected_answer, dataset)\n"
      ]
    },
    {
      "cell_type": "code",
      "source": [
        "from IPython.display import Image\n",
        "try:\n",
        "  filename = take_photo()\n",
        "  print('Saved to {}'.format(filename))\n",
        "  \n",
        "  # Show the image which was just taken.\n",
        "  display(Image(filename))\n",
        "except Exception as err:\n",
        "  # Errors will be thrown if the user does not have a webcam or if they do not\n",
        "  # grant the page permission to access it.\n",
        "  print(str(err))"
      ],
      "metadata": {
        "id": "7qjzDg1BMonx"
      },
      "execution_count": null,
      "outputs": []
    },
    {
      "cell_type": "markdown",
      "source": [
        "## Reference\n",
        "\n",
        "1. Saito Yasuhiro. Deep Learning from Scratch[M]. Japan: O'Reilly Japan, 2016.\n",
        "\n",
        "2. 管他叫大靖. (2021年05月24日). Softmax Loss 的推导及改进. 知乎专栏. (https://zhuanlan.zhihu.com/p/374018199)."
      ],
      "metadata": {
        "id": "GFggngb-Zdlh"
      }
    }
  ],
  "metadata": {
    "accelerator": "GPU",
    "colab": {
      "collapsed_sections": [
        "RjRQLf1HjZZY",
        "428IuPKjnPPa",
        "vnZJkBsNk8NQ",
        "gBySGUTJjy39",
        "lVl0mOKYmKFr",
        "V4ikKQHFmTLT"
      ],
      "provenance": [],
      "authorship_tag": "ABX9TyPBgXfAIqE4mAZc4TTT11Qf",
      "include_colab_link": true
    },
    "gpuClass": "standard",
    "kernelspec": {
      "display_name": "Python 3",
      "name": "python3"
    },
    "language_info": {
      "name": "python"
    }
  },
  "nbformat": 4,
  "nbformat_minor": 0
}